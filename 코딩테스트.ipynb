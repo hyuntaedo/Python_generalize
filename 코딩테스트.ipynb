{
  "nbformat": 4,
  "nbformat_minor": 0,
  "metadata": {
    "colab": {
      "name": "코딩테스트.ipynb",
      "provenance": [],
      "collapsed_sections": [],
      "authorship_tag": "ABX9TyOXL+f0u0r9MtaliCU1rwzI",
      "include_colab_link": true
    },
    "kernelspec": {
      "name": "python3",
      "display_name": "Python 3"
    },
    "language_info": {
      "name": "python"
    }
  },
  "cells": [
    {
      "cell_type": "markdown",
      "metadata": {
        "id": "view-in-github",
        "colab_type": "text"
      },
      "source": [
        "<a href=\"https://colab.research.google.com/github/hyuntaedo/Python_generalize/blob/main/%EC%BD%94%EB%94%A9%ED%85%8C%EC%8A%A4%ED%8A%B8.ipynb\" target=\"_parent\"><img src=\"https://colab.research.google.com/assets/colab-badge.svg\" alt=\"Open In Colab\"/></a>"
      ]
    },
    {
      "cell_type": "markdown",
      "metadata": {
        "id": "okk5yzab5dvo"
      },
      "source": [
        "##<strong>1번 워밍업 문제</strong>\n",
        "1부터 10000까지 8이라는 숫자가 총 몇번 나오는가?\n",
        "\n",
        "8이 포함되어있는 숫자의 갯수를 카운팅하는것이아니라 8이라는 숫자를 모두 카운팅 해야한다."
      ]
    },
    {
      "cell_type": "code",
      "metadata": {
        "colab": {
          "base_uri": "https://localhost:8080/"
        },
        "id": "_X-4mEVX8Ito",
        "outputId": "eb13204a-8733-40b5-8248-9946808b7c8c"
      },
      "source": [
        "str(list(range(1,10001))).count('8')"
      ],
      "execution_count": 3,
      "outputs": [
        {
          "output_type": "execute_result",
          "data": {
            "text/plain": [
              "4000"
            ]
          },
          "metadata": {
            "tags": []
          },
          "execution_count": 3
        }
      ]
    },
    {
      "cell_type": "code",
      "metadata": {
        "colab": {
          "base_uri": "https://localhost:8080/"
        },
        "id": "hLSqQrrg8Zwp",
        "outputId": "8e35d324-c371-4728-b0e3-e9f3c16a02f8"
      },
      "source": [
        "%%timeit\n",
        "str(list(range(1,10001))).count('8')"
      ],
      "execution_count": 4,
      "outputs": [
        {
          "output_type": "stream",
          "text": [
            "1000 loops, best of 5: 881 µs per loop\n"
          ],
          "name": "stdout"
        }
      ]
    },
    {
      "cell_type": "code",
      "metadata": {
        "colab": {
          "base_uri": "https://localhost:8080/"
        },
        "id": "a8hs6Lja8efh",
        "outputId": "c1d1e3d7-ae30-4def-d19d-066d39d96b66"
      },
      "source": [
        "%%timeit\n",
        "count =0\n",
        "for i in range(1,10001):\n",
        "    if '8' in str(i):\n",
        "        count+= str(i).count('8')\n",
        "count"
      ],
      "execution_count": 9,
      "outputs": [
        {
          "output_type": "stream",
          "text": [
            "100 loops, best of 5: 3.63 ms per loop\n"
          ],
          "name": "stdout"
        }
      ]
    },
    {
      "cell_type": "markdown",
      "metadata": {
        "id": "teJlNRvy8nuY"
      },
      "source": [
        "##<strong>2번 워밍업 문제\n",
        "\n",
        "1차원의 점들이 주어졌을때, 그 중 가장 거리가 짧은 것의 쌍을 출력하는 함수를 작성\n",
        "\n",
        "(단 점들의 배열은 모두 정렬되어있다고 가정)\n",
        "\n",
        "예를들어 S=[1,3,4,8,13,17,20] 이라면 결과값은 (3,4)"
      ]
    },
    {
      "cell_type": "code",
      "metadata": {
        "colab": {
          "base_uri": "https://localhost:8080/"
        },
        "id": "9xN910NO9Ho3",
        "outputId": "70df4636-9474-47ea-abd6-d0fb24dcd084"
      },
      "source": [
        "s = [1,3,4,8,13,17,20]\n",
        "m = max(s)\n",
        "m"
      ],
      "execution_count": 10,
      "outputs": [
        {
          "output_type": "execute_result",
          "data": {
            "text/plain": [
              "20"
            ]
          },
          "metadata": {
            "tags": []
          },
          "execution_count": 10
        }
      ]
    },
    {
      "cell_type": "code",
      "metadata": {
        "colab": {
          "base_uri": "https://localhost:8080/"
        },
        "id": "vNPRJxpT9Vuy",
        "outputId": "786ae491-330d-4d74-a488-0c6879b9255b"
      },
      "source": [
        "index = 0\n",
        "for i in range(len(s)-1):\n",
        "    if m >s[i+1] - s[i]:\n",
        "        index = i\n",
        "        m = s[i+1] -s[i]\n",
        "s[index], s[index+1]"
      ],
      "execution_count": 11,
      "outputs": [
        {
          "output_type": "execute_result",
          "data": {
            "text/plain": [
              "(3, 4)"
            ]
          },
          "metadata": {
            "tags": []
          },
          "execution_count": 11
        }
      ]
    },
    {
      "cell_type": "code",
      "metadata": {
        "colab": {
          "base_uri": "https://localhost:8080/"
        },
        "id": "cV4AvK068X2Z",
        "outputId": "9142cdb1-0219-424e-b98b-eeed7e63d8ac"
      },
      "source": [
        "s = [1,3,4,8,13,17,20]\n",
        "ss = [3,4,8,13,17,20]\n",
        "list(zip(s,ss))"
      ],
      "execution_count": 12,
      "outputs": [
        {
          "output_type": "execute_result",
          "data": {
            "text/plain": [
              "[(1, 3), (3, 4), (4, 8), (8, 13), (13, 17), (17, 20)]"
            ]
          },
          "metadata": {
            "tags": []
          },
          "execution_count": 12
        }
      ]
    },
    {
      "cell_type": "code",
      "metadata": {
        "colab": {
          "base_uri": "https://localhost:8080/"
        },
        "id": "N91kIp_U9xHQ",
        "outputId": "64864777-7024-4bd6-d21a-0cf38aa22a83"
      },
      "source": [
        "sorted(list(zip(s,ss)), key=lambda i: i[1]-i[0])[0]"
      ],
      "execution_count": 15,
      "outputs": [
        {
          "output_type": "execute_result",
          "data": {
            "text/plain": [
              "(3, 4)"
            ]
          },
          "metadata": {
            "tags": []
          },
          "execution_count": 15
        }
      ]
    },
    {
      "cell_type": "code",
      "metadata": {
        "colab": {
          "base_uri": "https://localhost:8080/"
        },
        "id": "kENmG85L8U1o",
        "outputId": "28c920b8-a60e-4f7e-c95d-128cb0b1e8c4"
      },
      "source": [
        "def 두수의차(i):\n",
        "    return i[1] - i[0]\n",
        "sorted(list(zip(s,ss)),key=두수의차)[0]"
      ],
      "execution_count": 18,
      "outputs": [
        {
          "output_type": "execute_result",
          "data": {
            "text/plain": [
              "(3, 4)"
            ]
          },
          "metadata": {
            "tags": []
          },
          "execution_count": 18
        }
      ]
    },
    {
      "cell_type": "markdown",
      "metadata": {
        "id": "EUvX24V6Bz4Y"
      },
      "source": [
        "#<strong>1번 카카오 코딩테스트 문제-1"
      ]
    },
    {
      "cell_type": "code",
      "metadata": {
        "colab": {
          "base_uri": "https://localhost:8080/",
          "height": 35
        },
        "id": "NYc7KqA4-Sno",
        "outputId": "3746b733-7ce6-46a2-c267-0afa56f1e24b"
      },
      "source": [
        "bin(30)"
      ],
      "execution_count": 19,
      "outputs": [
        {
          "output_type": "execute_result",
          "data": {
            "application/vnd.google.colaboratory.intrinsic+json": {
              "type": "string"
            },
            "text/plain": [
              "'0b11110'"
            ]
          },
          "metadata": {
            "tags": []
          },
          "execution_count": 19
        }
      ]
    },
    {
      "cell_type": "code",
      "metadata": {
        "colab": {
          "base_uri": "https://localhost:8080/",
          "height": 35
        },
        "id": "3wxqOHgcAJJo",
        "outputId": "33ebad95-0ddc-4109-f934-b5eb927db750"
      },
      "source": [
        "bin(9)"
      ],
      "execution_count": 20,
      "outputs": [
        {
          "output_type": "execute_result",
          "data": {
            "application/vnd.google.colaboratory.intrinsic+json": {
              "type": "string"
            },
            "text/plain": [
              "'0b1001'"
            ]
          },
          "metadata": {
            "tags": []
          },
          "execution_count": 20
        }
      ]
    },
    {
      "cell_type": "code",
      "metadata": {
        "colab": {
          "base_uri": "https://localhost:8080/",
          "height": 35
        },
        "id": "mgiCWp4RALJY",
        "outputId": "ff8ea188-3255-45f6-f17c-0fa307f1de2e"
      },
      "source": [
        "bin(9 | 30)[2:].replace('1','#').replace('0',' ')"
      ],
      "execution_count": 24,
      "outputs": [
        {
          "output_type": "execute_result",
          "data": {
            "application/vnd.google.colaboratory.intrinsic+json": {
              "type": "string"
            },
            "text/plain": [
              "'#####'"
            ]
          },
          "metadata": {
            "tags": []
          },
          "execution_count": 24
        }
      ]
    },
    {
      "cell_type": "code",
      "metadata": {
        "colab": {
          "base_uri": "https://localhost:8080/"
        },
        "id": "qAV3UJhhAUpI",
        "outputId": "6b5affa7-a689-4c23-d3ac-4a2a7545c163"
      },
      "source": [
        "arr1 = [9,20,28,18,11]\n",
        "arr2 = [30,1,21,17,28]\n",
        "n = 5\n",
        "for i in zip(arr1,arr2):\n",
        "    print(i)"
      ],
      "execution_count": 25,
      "outputs": [
        {
          "output_type": "stream",
          "text": [
            "(9, 30)\n",
            "(20, 1)\n",
            "(28, 21)\n",
            "(18, 17)\n",
            "(11, 28)\n"
          ],
          "name": "stdout"
        }
      ]
    },
    {
      "cell_type": "code",
      "metadata": {
        "colab": {
          "base_uri": "https://localhost:8080/"
        },
        "id": "yZYXFfTXAjqA",
        "outputId": "3d49c0eb-9167-4c08-d0ae-45375d021999"
      },
      "source": [
        "for j in zip(arr1,arr2):\n",
        "    print(i,j)"
      ],
      "execution_count": 26,
      "outputs": [
        {
          "output_type": "stream",
          "text": [
            "(11, 28) (9, 30)\n",
            "(11, 28) (20, 1)\n",
            "(11, 28) (28, 21)\n",
            "(11, 28) (18, 17)\n",
            "(11, 28) (11, 28)\n"
          ],
          "name": "stdout"
        }
      ]
    },
    {
      "cell_type": "code",
      "metadata": {
        "colab": {
          "base_uri": "https://localhost:8080/"
        },
        "id": "fyev5UOOApQw",
        "outputId": "2db40995-f467-420b-b1e1-676230895d84"
      },
      "source": [
        "for i,j in zip(arr1,arr2):\n",
        "    print(bin(i | j)[2:].replace('1','#').replace('0',' '))"
      ],
      "execution_count": 28,
      "outputs": [
        {
          "output_type": "stream",
          "text": [
            "#####\n",
            "# # #\n",
            "### #\n",
            "#  ##\n",
            "#####\n"
          ],
          "name": "stdout"
        }
      ]
    },
    {
      "cell_type": "code",
      "metadata": {
        "colab": {
          "base_uri": "https://localhost:8080/"
        },
        "id": "zoqhWdRcAStA",
        "outputId": "8fb20f32-52f0-4b40-b143-96186c357a0d"
      },
      "source": [
        "arr1 = [9,20,28,18,11]\n",
        "arr2 = [30,1,21,17,28]\n",
        "n = 5\n",
        "\n",
        "for i,j in zip(arr1,arr2):\n",
        "    print(bin(i | j)[2:].zfill(n).replace('1','#').replace('0',' '))"
      ],
      "execution_count": 31,
      "outputs": [
        {
          "output_type": "stream",
          "text": [
            "#####\n",
            "# # #\n",
            "### #\n",
            "#  ##\n",
            "#####\n"
          ],
          "name": "stdout"
        }
      ]
    },
    {
      "cell_type": "markdown",
      "metadata": {
        "id": "4aiNGQUbBwEv"
      },
      "source": [
        "#<strong>1번 카카오 코딩테스트 문제-2"
      ]
    },
    {
      "cell_type": "code",
      "metadata": {
        "id": "Tp86OTYOCB3f"
      },
      "source": [
        ""
      ],
      "execution_count": null,
      "outputs": []
    }
  ]
}